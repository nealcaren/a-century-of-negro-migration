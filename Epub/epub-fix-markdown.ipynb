{
 "cells": [
  {
   "cell_type": "code",
   "execution_count": 1,
   "metadata": {},
   "outputs": [],
   "source": [
    "from glob import glob"
   ]
  },
  {
   "cell_type": "code",
   "execution_count": 2,
   "metadata": {},
   "outputs": [],
   "source": [
    "import re\n",
    "\n",
    "# Function to process the markdown content\n",
    "def process_markdown(file_name):\n",
    "    \"\"\"\n",
    "    Process the markdown content by removing code blocks set off by ```{=html} ```\n",
    "    and changing the footnote references to include the filename as a prefix.\n",
    "    \n",
    "    Args:\n",
    "    - file_content: The content of the markdown file as a string.\n",
    "    \n",
    "    Returns:\n",
    "    - The processed markdown content as a string.\n",
    "    \"\"\"\n",
    "    with open(file_name ,'r') as infile:\n",
    "        file_content = infile.read()\n",
    "        \n",
    "    # Extract the filename prefix from the path\n",
    "    filename_prefix = file_name.split('/')[-1].split('.')[0]\n",
    "\n",
    "    # Remove code blocks\n",
    "    processed_content = re.sub(r'```{=html}.*?```', '', file_content, flags=re.DOTALL)\n",
    "    \n",
    "    # Change footnote references to include the filename prefix\n",
    "    processed_content = re.sub(r'\\[\\^(\\d+)\\]', r'[^' + filename_prefix + r'-\\1]', processed_content)\n",
    "    \n",
    "    return processed_content\n"
   ]
  },
  {
   "cell_type": "code",
   "execution_count": 5,
   "metadata": {},
   "outputs": [],
   "source": [
    "file_list = [\n",
    "    \"chapters/00-dedication.md\",\n",
    "    \"chapters/00-preface.md\",\n",
    "    \"chapters/chapter-01.md\",\n",
    "    \"chapters/chapter-02.md\",\n",
    "    \"chapters/chapter-03.md\",\n",
    "    \"chapters/chapter-04.md\",\n",
    "    \"chapters/chapter-05.md\",\n",
    "    \"chapters/chapter-06.md\",\n",
    "    \"chapters/chapter-07.md\",\n",
    "    \"chapters/chapter-08.md\",\n",
    "    \"chapters/chapter-09.md\",\n",
    "    \"chapters/chapter-10-bibliography.md\",\n",
    "    \"chapters/chapter-11-index.md\"\n",
    "]\n",
    "\n",
    "for fn in file_list:\n",
    "    fn_in = '/Users/nealcaren/Documents/GitHub/a-century-of-negro-migration/' + fn\n",
    "    fn_out = '/Users/nealcaren/Documents/GitHub/a-century-of-negro-migration/Epub/' + fn\n",
    "    new_md= process_markdown(fn_in)\n",
    "    with open(fn_out, 'w') as outfile:\n",
    "        outfile.write(new_md)\n",
    "    "
   ]
  },
  {
   "cell_type": "code",
   "execution_count": null,
   "metadata": {},
   "outputs": [],
   "source": []
  }
 ],
 "metadata": {
  "kernelspec": {
   "display_name": "code",
   "language": "python",
   "name": "python3"
  },
  "language_info": {
   "codemirror_mode": {
    "name": "ipython",
    "version": 3
   },
   "file_extension": ".py",
   "mimetype": "text/x-python",
   "name": "python",
   "nbconvert_exporter": "python",
   "pygments_lexer": "ipython3",
   "version": "3.10.13"
  }
 },
 "nbformat": 4,
 "nbformat_minor": 2
}
